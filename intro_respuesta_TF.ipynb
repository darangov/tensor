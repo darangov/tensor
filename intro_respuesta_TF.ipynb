{
  "nbformat": 4,
  "nbformat_minor": 0,
  "metadata": {
    "colab": {
      "name": "intro_respuesta.ipynb",
      "version": "0.3.2",
      "provenance": [],
      "collapsed_sections": []
    },
    "kernelspec": {
      "name": "python3",
      "display_name": "Python 3"
    }
  },
  "cells": [
    {
      "cell_type": "markdown",
      "metadata": {
        "id": "fqIAwB4TJgXV",
        "colab_type": "text"
      },
      "source": [
        "# Ejercicio práctico de TensorFlow\n",
        "\n",
        "En este ejercicio pondremos en práctica los elementos más básicos de TensorFlow. Específicamente, usaremos `tf.placeholder`, `tf.Variable` y `tf.constant`, así como `tf.Graph` y `tf.Session`.\n",
        "\n",
        "En este ejercicio vamos a calcular el costo de comer en un restaurante. En una típica salida a un restaruante:\n",
        "\n",
        "*   Seleccionamos los platos que vamos a consumir\n",
        "*   Mientras dura el tiempo en el restaurante, podríamos repetir alguno de los productos consumidos, por lo que es importante llevar la cuenta de cuántas veces consumimos cada producto.\n",
        "*   Al costo de lo que consumimos debemos añadirle el iva, el cual es el 19% de lo que consumimos.\n",
        "*   En caso de decidir pagar propina, debemos sumarlo al costo de las comidas y bebidas que consumimos. \n",
        "*   Finalmente, es problable que hayamos ido a comer con varias personas, por lo que hace falta dividir la cuenta entre el número de personas.\n",
        "\n"
      ]
    },
    {
      "cell_type": "code",
      "metadata": {
        "id": "MvqIOmnKecQu",
        "colab_type": "code",
        "colab": {}
      },
      "source": [
        "import numpy as np\n",
        "import tensorflow as tf"
      ],
      "execution_count": 0,
      "outputs": []
    },
    {
      "cell_type": "markdown",
      "metadata": {
        "id": "A7ZPRsL6efFE",
        "colab_type": "text"
      },
      "source": [
        "Para este ejercicio, vamos a crear primero un arreglo que nos guarde los nombres de los productos del restaurante, de esta forma es evidente que cada producto tiene un índice"
      ]
    },
    {
      "cell_type": "code",
      "metadata": {
        "id": "mGrdqsJKhtbu",
        "colab_type": "code",
        "outputId": "d404ece2-b7ee-4c0d-87c0-4e5f3e0d6511",
        "colab": {
          "base_uri": "https://localhost:8080/",
          "height": 69
        }
      },
      "source": [
        "productos = np.array(['cerveza', 'torta de zanahoria', 'torta de banano',\n",
        "                      'torta bavariana', 'pizza napolitana',\n",
        "                      'pizza cuatro quesos', 'pizza vegetales',\n",
        "                      'sopa de tomate','humus'])\n",
        "productos"
      ],
      "execution_count": 25,
      "outputs": [
        {
          "output_type": "execute_result",
          "data": {
            "text/plain": [
              "array(['cerveza', 'torta de zanahoria', 'torta de banano',\n",
              "       'torta bavariana', 'pizza napolitana', 'pizza cuatro quesos',\n",
              "       'pizza vegetales', 'sopa de tomate', 'humus'], dtype='<U19')"
            ]
          },
          "metadata": {
            "tags": []
          },
          "execution_count": 25
        }
      ]
    },
    {
      "cell_type": "markdown",
      "metadata": {
        "id": "flbqroJJiT0L",
        "colab_type": "text"
      },
      "source": [
        "También, vamos a crear un tensor constante en el que pondremos el precio de cada producto."
      ]
    },
    {
      "cell_type": "code",
      "metadata": {
        "id": "D1fL3uVSiuvf",
        "colab_type": "code",
        "colab": {}
      },
      "source": [
        "precios = tf.constant(\n",
        "    [5000, 8000, 8500, 9500, 20000, 28000, 24000, 10000, 12000],\n",
        "    dtype=tf.float32, shape=[len(productos)], name=\"precios\"\n",
        ")"
      ],
      "execution_count": 0,
      "outputs": []
    },
    {
      "cell_type": "markdown",
      "metadata": {
        "id": "_dRlgCjKjaX8",
        "colab_type": "text"
      },
      "source": [
        "**Ejercicio 1:** crea un placeholder para ingresar los datos de una compra. Este placeholder debe admitir una cantidad de valores igual al número productos, para posteriormente ser llenado con enteros que representen la cantidad de veces que se ordenó cada producto."
      ]
    },
    {
      "cell_type": "code",
      "metadata": {
        "id": "6Oyf1xpxjXVl",
        "colab_type": "code",
        "colab": {}
      },
      "source": [
        "compra = tf.placeholder(dtype=tf.float32, shape=[len(productos)], name=\"compra\")"
      ],
      "execution_count": 0,
      "outputs": []
    },
    {
      "cell_type": "markdown",
      "metadata": {
        "id": "Wr5i9o3Pkx1p",
        "colab_type": "text"
      },
      "source": [
        "**Ejercicio 2:** multiplica el tensor de compras con el tensor de precios elemento por elemento, para obtener un precio por producto que incluya la cantidad de veces que se ordenó un producto. Usa [`tf.multiply`](https://www.tensorflow.org/api_docs/python/tf/multiply)"
      ]
    },
    {
      "cell_type": "code",
      "metadata": {
        "id": "A7sItUFdlKAC",
        "colab_type": "code",
        "colab": {}
      },
      "source": [
        "costo_por_producto = tf.multiply(precios, compra, name=\"costo_por_producto\")"
      ],
      "execution_count": 0,
      "outputs": []
    },
    {
      "cell_type": "markdown",
      "metadata": {
        "id": "8IAA-qUAloT6",
        "colab_type": "text"
      },
      "source": [
        "**Ejercicio 3:** suma el valor de `costo_por_producto `, de tal forma que puedas obtener el costo base de la compra. Utiliza [`tf.reduce_sum`](https://www.tensorflow.org/api_docs/python/tf/reduce_sum)."
      ]
    },
    {
      "cell_type": "code",
      "metadata": {
        "id": "S8l91dcAmHDk",
        "colab_type": "code",
        "colab": {}
      },
      "source": [
        "costo_base = tf.reduce_sum(costo_por_producto, name=\"costo_base\")"
      ],
      "execution_count": 0,
      "outputs": []
    },
    {
      "cell_type": "markdown",
      "metadata": {
        "id": "0DhPtltYmTGK",
        "colab_type": "text"
      },
      "source": [
        "**Ejercicio 4:** calcula el iva de la compra que acabas de hacer, para esto crea una constante que te guarde el porcentaje de la compra que debes sumar al costo base (0.19) y luego multiplica el costo base por este valor para obtener el valor que debes sumar a la cuenta. No te preocupes si te sale el siguiente error: `TypeError: Input 'y' of 'Mul' Op has type int32 that does not match type float32 of argument 'x'.`"
      ]
    },
    {
      "cell_type": "code",
      "metadata": {
        "id": "-qnVpZq4mnz9",
        "colab_type": "code",
        "colab": {}
      },
      "source": [
        "porciento_iva = tf.constant(0.19, name='porciento_iva', dtype=tf.float32)\n",
        "costo_iva = tf.multiply(porciento_iva, costo_base, name='costo_iva')"
      ],
      "execution_count": 0,
      "outputs": []
    },
    {
      "cell_type": "markdown",
      "metadata": {
        "id": "SN2U6i7M0Zbx",
        "colab_type": "text"
      },
      "source": [
        "**Nota:** si no te salió el mensaje de error, puedes ignorar esta celda.\n",
        "\n",
        "\n",
        "Podemos ver que TensorFlow nos dice que no se puede multiplicar un `int32` con un `float32`, por lo que debemos convertir el tipo de dato de la variable `costo_base`\n",
        "\n",
        "**Ejercicio 4.1:** redefine la variable `costo_base` de tal forma que el tipo de variable sea `float32`, utiliza [`tf.cast`](https://www.tensorflow.org/api_docs/python/tf/cast). Posteriormente, veulve a calcular el iva."
      ]
    },
    {
      "cell_type": "code",
      "metadata": {
        "id": "GKr2d2qM0-x5",
        "colab_type": "code",
        "colab": {}
      },
      "source": [
        "costo_base = tf.cast(\n",
        "    tf.reduce_sum(costo_por_producto, name=\"costo_base\"), dtype=tf.float32\n",
        ")\n",
        "\n",
        "porciento_iva = tf.constant(0.19, name='porciento_iva')\n",
        "costo_iva = tf.multiply(\n",
        "    porciento_iva,\n",
        "    costo_base,\n",
        "    name='costo_iva'\n",
        ")"
      ],
      "execution_count": 0,
      "outputs": []
    },
    {
      "cell_type": "markdown",
      "metadata": {
        "id": "DUFRGKWb1YYK",
        "colab_type": "text"
      },
      "source": [
        "Ahora falta incluir la propina, dado que no es algo obligatorio, vamos a tratar la propina como un `placeholder` en el cual simplemente se ingresará el valor de la propina que el cliente quiera dar. \n",
        "\n",
        "**Ejercicio 5:**  crea un [`tf.placeholder_with_default`](https://www.tensorflow.org/api_docs/python/tf/placeholder_with_default) utilizando `0` como el valor por defecto."
      ]
    },
    {
      "cell_type": "code",
      "metadata": {
        "id": "4RLAeyN55B2g",
        "colab_type": "code",
        "colab": {}
      },
      "source": [
        "propina = tf.placeholder_with_default(0.0, shape=None, name=\"propina\")"
      ],
      "execution_count": 0,
      "outputs": []
    },
    {
      "cell_type": "markdown",
      "metadata": {
        "id": "AUUZjj0g1xX0",
        "colab_type": "text"
      },
      "source": [
        "Ya tenemos todo lo necesario para calcular el costo total.\n",
        "\n",
        "**Ejercicio 6:** calcula el costo total de la salida al restaurante, el cual es la suma del costo base, el costo por iva y la propina."
      ]
    },
    {
      "cell_type": "code",
      "metadata": {
        "id": "yujZNzPB7Dhh",
        "colab_type": "code",
        "colab": {}
      },
      "source": [
        "costo_total = costo_base + costo_iva + propina"
      ],
      "execution_count": 0,
      "outputs": []
    },
    {
      "cell_type": "markdown",
      "metadata": {
        "id": "enSOqbOa72ZF",
        "colab_type": "text"
      },
      "source": [
        "Finalmente, es probable que queramos dividir la cuenta entre algún número de personas.\n",
        "\n",
        "**Ejercicio 7:** crea un `tf.placeholder_with_default` que guarde el número de personas en los que se va a dividir la cuenta. El valor por defecto debe ser `1`."
      ]
    },
    {
      "cell_type": "code",
      "metadata": {
        "id": "Ipa-dTgI75IV",
        "colab_type": "code",
        "colab": {}
      },
      "source": [
        "n_personas = tf.placeholder_with_default(1.0, shape=None, name='n_personas')\n",
        "costo_por_persona = costo_total/n_personas"
      ],
      "execution_count": 0,
      "outputs": []
    },
    {
      "cell_type": "markdown",
      "metadata": {
        "id": "IY5-xS5L8eGd",
        "colab_type": "text"
      },
      "source": [
        "Ya hemos terminado de definir el grafo, ahora solo queda ejecutarlo.\n",
        "\n",
        "**Ejercicio 8:** completa la siguiente celda de tal forma que imprima el costo total y el costo por persona, asumiendo que la cuenta sólo se pagará por una persona y no habrá propina. La compra será la siguiente:\n",
        "\n",
        "*   5 cervezas\n",
        "*   1 torta de zanahoria\n",
        "*   1 torta de banano\n",
        "*   3 pizzas napolitanas\n",
        "*   1 sopa de tomate\n",
        "*   12 platos de humus"
      ]
    },
    {
      "cell_type": "code",
      "metadata": {
        "id": "mpvs9f8zgtxD",
        "colab_type": "code",
        "outputId": "35184fd5-1425-409c-f743-08957681ac93",
        "colab": {
          "base_uri": "https://localhost:8080/",
          "height": 52
        }
      },
      "source": [
        "with tf.Session() as sess:\n",
        "    \n",
        "    ct, cp = sess.run(\n",
        "        [costo_total, costo_por_persona],\n",
        "        feed_dict={\n",
        "            compra:[5, 1, 1, 0, 3, 0, 0, 1, 12]\n",
        "        }\n",
        "    )\n",
        "    \n",
        "    \n",
        "    print(\"The total cost is: {}\".format(ct))\n",
        "    print(\"Each person should pay: {}\".format(cp))"
      ],
      "execution_count": 36,
      "outputs": [
        {
          "output_type": "stream",
          "text": [
            "The total cost is: 304045.0\n",
            "Each person should pay: 304045.0\n"
          ],
          "name": "stdout"
        }
      ]
    },
    {
      "cell_type": "markdown",
      "metadata": {
        "id": "RLEQD9hLKzDI",
        "colab_type": "text"
      },
      "source": [
        "**Ejercicio 9:** repite el ejercicio anterior asumiendo una propina de $5000 y que la cuenta se divide en 4 personas"
      ]
    },
    {
      "cell_type": "code",
      "metadata": {
        "id": "iYglyRM-n8IP",
        "colab_type": "code",
        "outputId": "a9eb1d76-c0ef-411a-be87-9a5353a2a3ea",
        "colab": {
          "base_uri": "https://localhost:8080/",
          "height": 52
        }
      },
      "source": [
        "with tf.Session() as sess:\n",
        "    \n",
        "    ct, cp = sess.run(\n",
        "        [costo_total, costo_por_persona],\n",
        "        feed_dict={\n",
        "            compra: [5, 1, 1, 0, 3, 0, 0, 1, 12],\n",
        "            propina: 5000,\n",
        "            n_personas: 4\n",
        "        }\n",
        "    )\n",
        "    \n",
        "    \n",
        "    print(\"The total cost is: {}\".format(ct))\n",
        "    print(\"Each person should pay: {}\".format(cp))"
      ],
      "execution_count": 37,
      "outputs": [
        {
          "output_type": "stream",
          "text": [
            "The total cost is: 309045.0\n",
            "Each person should pay: 77261.25\n"
          ],
          "name": "stdout"
        }
      ]
    },
    {
      "cell_type": "code",
      "metadata": {
        "id": "DzllYQhVMgwR",
        "colab_type": "code",
        "colab": {}
      },
      "source": [
        ""
      ],
      "execution_count": 0,
      "outputs": []
    }
  ]
}